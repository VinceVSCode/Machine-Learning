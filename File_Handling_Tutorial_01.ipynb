{
 "cells": [
  {
   "cell_type": "code",
   "execution_count": 1,
   "metadata": {},
   "outputs": [],
   "source": [
    "import os  # older ways of handling files\n",
    "from pathlib import Path # Newer "
   ]
  },
  {
   "cell_type": "markdown",
   "metadata": {},
   "source": [
    "Dataset obtained from : https://universe.roboflow.com/roboflow-58fyf/rock-paper-scissors-sxsw/dataset/1"
   ]
  },
  {
   "cell_type": "code",
   "execution_count": 2,
   "metadata": {},
   "outputs": [],
   "source": [
    "# create paths object\n",
    "paths = Path('images/')\n"
   ]
  },
  {
   "cell_type": "code",
   "execution_count": 3,
   "metadata": {},
   "outputs": [
    {
     "name": "stdout",
     "output_type": "stream",
     "text": [
      "Number of Files found: 121\n"
     ]
    }
   ],
   "source": [
    "# Now iterate through the sub directories of the obj\n",
    "f_num = 0\n",
    "\n",
    "for p in paths.iterdir():\n",
    "    \n",
    "    # print (p.name) # Print the names of each file in given path\n",
    "\n",
    "    f_num +=1\n",
    "print (f'Number of Files found: {f_num}')\n"
   ]
  },
  {
   "cell_type": "code",
   "execution_count": 1,
   "metadata": {},
   "outputs": [
    {
     "ename": "SyntaxError",
     "evalue": "expected ':' (285313699.py, line 5)",
     "output_type": "error",
     "traceback": [
      "\u001b[1;36m  Cell \u001b[1;32mIn[1], line 5\u001b[1;36m\u001b[0m\n\u001b[1;33m    def create_dir(name = 'TestFolder')\u001b[0m\n\u001b[1;37m                                       ^\u001b[0m\n\u001b[1;31mSyntaxError\u001b[0m\u001b[1;31m:\u001b[0m expected ':'\n"
     ]
    }
   ],
   "source": [
    "# create a func new dir \n",
    "\n",
    "from random import randint\n",
    "\n",
    "def create_dir(name = 'TestFolder')\n",
    "    \"\"\"\n",
    "    return: n_path = path of the new test dir\n",
    "    \"\"\"\n",
    "    n_path = Path(f'{name}{randint(0,5)}/')\n",
    "    try:\n",
    "        n_path.mkdir()\n",
    "    except FileExistsError as exc:\n",
    "        print(exc)\n",
    "    return n_path"
   ]
  },
  {
   "cell_type": "code",
   "execution_count": null,
   "metadata": {},
   "outputs": [],
   "source": [
    "# func for files delete, using paths\n",
    "\n",
    "def file_del(strpath):\n",
    "    \n",
    "    try:\n",
    "        os.remove(strpath)\n",
    "    except OSError as e:\n",
    "        print(f'Error: {strpath} : {e.strerror}')\n",
    "    "
   ]
  },
  {
   "cell_type": "code",
   "execution_count": null,
   "metadata": {},
   "outputs": [],
   "source": [
    "# func for dir delete, using paths, empty dir\n",
    "\n",
    "def dir_del_E(strpath):\n",
    "    \n",
    "    try:\n",
    "        os.rmdir(strpath)\n",
    "    except OSError as e:\n",
    "        print(f'Error: {strpath} : {e.strerror}')\n",
    "    "
   ]
  },
  {
   "cell_type": "code",
   "execution_count": null,
   "metadata": {},
   "outputs": [],
   "source": [
    "# func to delete dir, using path, non empty, using shutil\n",
    "import shutil\n",
    "\n",
    "def dir_del_nonE(strpath):\n",
    "\n",
    "    try:\n",
    "        shutil.rmtree(strpath)\n",
    "    except OSError as e:\n",
    "        print(f'Error Type: {strpath} : {e.strerror}')\n",
    "        "
   ]
  },
  {
   "cell_type": "code",
   "execution_count": null,
   "metadata": {},
   "outputs": [],
   "source": [
    "# func to copy file from one file to another, using shutil\n",
    "\n",
    "def file_cp(strpath, dst):\n",
    "\n",
    "    shutil.copy2(strpath,dst) #copy2 preserves metadata "
   ]
  },
  {
   "cell_type": "code",
   "execution_count": null,
   "metadata": {},
   "outputs": [],
   "source": [
    "# func to copy a dir, using shutil\n",
    "\n",
    "def dir_cp(strpath, dst):\n",
    "    \n",
    "    shutil.copytree(strpath, dst)"
   ]
  },
  {
   "cell_type": "code",
   "execution_count": null,
   "metadata": {},
   "outputs": [],
   "source": [
    "dst = create_dir()"
   ]
  }
 ],
 "metadata": {
  "kernelspec": {
   "display_name": "Python 3",
   "language": "python",
   "name": "python3"
  },
  "language_info": {
   "codemirror_mode": {
    "name": "ipython",
    "version": 3
   },
   "file_extension": ".py",
   "mimetype": "text/x-python",
   "name": "python",
   "nbconvert_exporter": "python",
   "pygments_lexer": "ipython3",
   "version": "3.11.6"
  },
  "orig_nbformat": 4
 },
 "nbformat": 4,
 "nbformat_minor": 2
}
