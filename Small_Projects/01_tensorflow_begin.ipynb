{
  "nbformat": 4,
  "nbformat_minor": 0,
  "metadata": {
    "colab": {
      "provenance": [],
      "authorship_tag": "ABX9TyN0yDwQ0IxXk0xdV9YHVx4m",
      "include_colab_link": true
    },
    "kernelspec": {
      "name": "python3",
      "display_name": "Python 3"
    },
    "language_info": {
      "name": "python"
    }
  },
  "cells": [
    {
      "cell_type": "markdown",
      "metadata": {
        "id": "view-in-github",
        "colab_type": "text"
      },
      "source": [
        "<a href=\"https://colab.research.google.com/github/fidis1993/Machine-Learning/blob/main/01_tensorflow_begin.ipynb\" target=\"_parent\"><img src=\"https://colab.research.google.com/assets/colab-badge.svg\" alt=\"Open In Colab\"/></a>"
      ]
    },
    {
      "cell_type": "markdown",
      "source": [
        "#Notebook 01\n",
        " In these notebooks, we will see the basics of tensorflow. Ultimately, the goal is to understand the basics and then procceed to writing DL models. First things first, the basics!\n",
        "\n",
        "##Contents:\n",
        "- Learn about tensors.\n",
        "- Process information/data in tensor form.\n",
        "- Manipulating the info/data.\n",
        "- Tensors and NumPy."
      ],
      "metadata": {
        "id": "geqqcSSpsOPI"
      }
    },
    {
      "cell_type": "markdown",
      "source": [
        "In this notebook I will focus on more tensor manipulation.\n",
        "I will play around with finding values that are usually of interest when working with ML models. Such as maximum value, minimum, mean and sum.\n"
      ],
      "metadata": {
        "id": "T0TPFQRexahw"
      }
    },
    {
      "cell_type": "code",
      "source": [
        "#Import TensorFlow\n",
        "import tensorflow as tf\n",
        "\n",
        "#Its good practice to check our version of the library. Make sure nothing is amiss.\n",
        "print(tf.__version__)"
      ],
      "metadata": {
        "colab": {
          "base_uri": "https://localhost:8080/"
        },
        "id": "WBydXmsuxhin",
        "outputId": "0e0769fc-fe0b-46ad-cec8-026229ab20b2"
      },
      "execution_count": 1,
      "outputs": [
        {
          "output_type": "stream",
          "name": "stdout",
          "text": [
            "2.12.0\n"
          ]
        }
      ]
    },
    {
      "cell_type": "code",
      "source": [
        "#Create a random tensor with a control range of parameters and type. We need to be familiar with those properties.\n",
        "ranTensor = tf.random.uniform(shape =(10,10),maxval = 255, dtype =tf.float16 )\n",
        "ranTensor"
      ],
      "metadata": {
        "colab": {
          "base_uri": "https://localhost:8080/"
        },
        "id": "g8H54BvIx6UZ",
        "outputId": "b0b77da1-a649-4d34-859e-60ba3e1d978a"
      },
      "execution_count": 6,
      "outputs": [
        {
          "output_type": "execute_result",
          "data": {
            "text/plain": [
              "array([[233.6  , 133.5  , 118.8  , 138.5  , 199.2  ,  60.25 , 111.3  ,\n",
              "         12.95 , 207.6  , 129.2  ],\n",
              "       [ 32.12 , 248.8  ,  15.69 , 160.1  , 204.   ,  95.4  , 237.4  ,\n",
              "        175.5  , 202.8  , 116.56 ],\n",
              "       [107.8  ,  10.46 , 146.9  , 136.8  , 144.9  , 216.4  , 205.5  ,\n",
              "        200.2  ,  48.8  , 106.3  ],\n",
              "       [187.5  , 190.5  ,   2.738,  86.44 ,  71.   , 219.9  ,  34.12 ,\n",
              "        204.5  , 209.1  , 119.5  ],\n",
              "       [ 58.03 ,  31.88 , 133.   ,  98.1  ,  50.56 , 172.6  ,  84.94 ,\n",
              "         59.75 , 196.5  , 113.56 ],\n",
              "       [172.6  , 142.5  , 231.6  ,  65.5  ,  84.2  , 215.9  ,  10.95 ,\n",
              "        221.6  ,  70.   , 223.1  ],\n",
              "       [227.1  , 227.1  , 146.4  , 177.5  ,  87.44 ,  78.94 ,  72.2  ,\n",
              "         25.16 , 122.   , 175.8  ],\n",
              "       [114.3  , 135.5  ,  11.7  ,   3.734, 228.9  , 244.8  , 243.8  ,\n",
              "         74.94 ,  76.44 , 148.9  ],\n",
              "       [243.2  , 116.56 ,  70.5  ,  33.12 , 245.8  , 151.4  , 113.56 ,\n",
              "        208.4  ,  94.6  ,  30.88 ],\n",
              "       [242.   , 137.   , 212.6  , 238.9  ,  39.6  ,  59.28 , 132.5  ,\n",
              "          9.46 ,  27.14 , 200.8  ]], dtype=float16)"
            ]
          },
          "metadata": {},
          "execution_count": 6
        }
      ]
    },
    {
      "cell_type": "code",
      "source": [
        "#Finding max using reduce_max() method\n",
        "max = tf.reduce_max(ranTensor)\n",
        "max"
      ],
      "metadata": {
        "colab": {
          "base_uri": "https://localhost:8080/"
        },
        "id": "jakp9A_gyn2Z",
        "outputId": "7760f5e8-58dc-4632-a4c7-10b84862ceca"
      },
      "execution_count": 8,
      "outputs": [
        {
          "output_type": "execute_result",
          "data": {
            "text/plain": [
              "<tf.Tensor: shape=(), dtype=float16, numpy=248.8>"
            ]
          },
          "metadata": {},
          "execution_count": 8
        }
      ]
    },
    {
      "cell_type": "code",
      "source": [
        "#Likewise for min using reduce_min()\n",
        "min = tf.reduce_min(ranTensor)\n",
        "min"
      ],
      "metadata": {
        "colab": {
          "base_uri": "https://localhost:8080/"
        },
        "id": "vdZ9QX3UzlJv",
        "outputId": "6da1d475-270e-44ab-b6e6-43080c5658ba"
      },
      "execution_count": 9,
      "outputs": [
        {
          "output_type": "execute_result",
          "data": {
            "text/plain": [
              "<tf.Tensor: shape=(), dtype=float16, numpy=2.738>"
            ]
          },
          "metadata": {},
          "execution_count": 9
        }
      ]
    },
    {
      "cell_type": "code",
      "source": [
        "# for mean we will use reduce_mean()\n",
        "mean = tf.reduce_min(ranTensor)\n",
        "mean"
      ],
      "metadata": {
        "colab": {
          "base_uri": "https://localhost:8080/"
        },
        "id": "s6tuF7qFzvTW",
        "outputId": "32c3b70b-c3e1-48bb-873b-c5c34c4ba5a9"
      },
      "execution_count": 10,
      "outputs": [
        {
          "output_type": "execute_result",
          "data": {
            "text/plain": [
              "<tf.Tensor: shape=(), dtype=float16, numpy=2.738>"
            ]
          },
          "metadata": {},
          "execution_count": 10
        }
      ]
    },
    {
      "cell_type": "code",
      "source": [
        "# for sum we will use reduce_sum()\n",
        "sum = tf.reduce_sum(ranTensor)\n",
        "sum"
      ],
      "metadata": {
        "colab": {
          "base_uri": "https://localhost:8080/"
        },
        "id": "x4H4euc7z3Ar",
        "outputId": "1282e4f3-63d7-4c54-be2f-b1508d24097e"
      },
      "execution_count": 11,
      "outputs": [
        {
          "output_type": "execute_result",
          "data": {
            "text/plain": [
              "<tf.Tensor: shape=(), dtype=float16, numpy=13144.0>"
            ]
          },
          "metadata": {},
          "execution_count": 11
        }
      ]
    },
    {
      "cell_type": "code",
      "source": [
        "#Finding the standard deviation\n",
        "std = tf.math.reduce_std(tf.cast(ranTensor,dtype = tf.float32))\n",
        "std"
      ],
      "metadata": {
        "colab": {
          "base_uri": "https://localhost:8080/"
        },
        "id": "AUAS3yXNz-iy",
        "outputId": "4d454e1c-10d6-4a72-ea69-78804b0f85fb"
      },
      "execution_count": 15,
      "outputs": [
        {
          "output_type": "execute_result",
          "data": {
            "text/plain": [
              "<tf.Tensor: shape=(), dtype=float32, numpy=73.82891>"
            ]
          },
          "metadata": {},
          "execution_count": 15
        }
      ]
    },
    {
      "cell_type": "code",
      "source": [
        "#For finding variance, we will need to import the probability library\n",
        "# side comment: It wasn't necessary.\n",
        "import tensorflow_probability as tfp\n",
        "#Also lets cast our tensor into ints 32bit for clearer results.\n",
        "var = tfp.stats.variance(tf.cast(ranTensor,dtype = tf.int32))\n",
        "var"
      ],
      "metadata": {
        "colab": {
          "base_uri": "https://localhost:8080/"
        },
        "id": "RPu6xuVj12lG",
        "outputId": "b50f72b2-76c1-44a6-cbea-d28273865e0b"
      },
      "execution_count": 18,
      "outputs": [
        {
          "output_type": "execute_result",
          "data": {
            "text/plain": [
              "<tf.Tensor: shape=(10,), dtype=int32, numpy=\n",
              "array([5599, 5108, 6029, 4484, 5512, 4725, 5924, 7326, 4667, 2674],\n",
              "      dtype=int32)>"
            ]
          },
          "metadata": {},
          "execution_count": 18
        }
      ]
    },
    {
      "cell_type": "code",
      "source": [
        "#this finds the max value in axis, default is 0.For more precission we can specify the axis we want to find the max or\n",
        "pos_array =tf.argmax(ranTensor)\n"
      ],
      "metadata": {
        "colab": {
          "base_uri": "https://localhost:8080/"
        },
        "id": "ljtIaNyY2it-",
        "outputId": "21ce40bc-ae2c-4fea-817a-cefd0d233751"
      },
      "execution_count": 20,
      "outputs": [
        {
          "output_type": "execute_result",
          "data": {
            "text/plain": [
              "<tf.Tensor: shape=(10,), dtype=int64, numpy=array([8, 1, 5, 9, 8, 7, 7, 5, 3, 5])>"
            ]
          },
          "metadata": {},
          "execution_count": 20
        }
      ]
    },
    {
      "cell_type": "code",
      "source": [
        "#Change axis to 1.Where 1 should  be the rows and 0 columns in this example.\n",
        "pos_axis0 =tf.argmax(ranTensor,1)\n",
        "pos_axis0"
      ],
      "metadata": {
        "colab": {
          "base_uri": "https://localhost:8080/"
        },
        "id": "VcwHVCTK5MtT",
        "outputId": "bb223d18-46c5-47fc-e23d-b846aaf55774"
      },
      "execution_count": 23,
      "outputs": [
        {
          "output_type": "execute_result",
          "data": {
            "text/plain": [
              "<tf.Tensor: shape=(10,), dtype=int64, numpy=array([0, 1, 5, 5, 8, 2, 0, 5, 4, 0])>"
            ]
          },
          "metadata": {},
          "execution_count": 23
        }
      ]
    }
  ]
}