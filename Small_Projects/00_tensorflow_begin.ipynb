{
  "nbformat": 4,
  "nbformat_minor": 0,
  "metadata": {
    "colab": {
      "provenance": [],
      "authorship_tag": "ABX9TyPDH5hPGn4DykyAZqrUiSq0",
      "include_colab_link": true
    },
    "kernelspec": {
      "name": "python3",
      "display_name": "Python 3"
    },
    "language_info": {
      "name": "python"
    }
  },
  "cells": [
    {
      "cell_type": "markdown",
      "metadata": {
        "id": "view-in-github",
        "colab_type": "text"
      },
      "source": [
        "<a href=\"https://colab.research.google.com/github/fidis1993/Machine-Learning/blob/main/00_tensorflow_begin.ipynb\" target=\"_parent\"><img src=\"https://colab.research.google.com/assets/colab-badge.svg\" alt=\"Open In Colab\"/></a>"
      ]
    },
    {
      "cell_type": "markdown",
      "source": [
        "#Notebook 00\n",
        " In these notebooks, we will see the basics of tensorflow. Ultimately, the goal is to understand the basics and then procceed to writing DL models. First things first, the basics!\n",
        "\n",
        "##Contents:\n",
        "- Learn about tensors.\n",
        "- Process information/data in tensor form.\n",
        "- Manipulating the info/data.\n",
        "- Tensors and NumPy."
      ],
      "metadata": {
        "id": "geqqcSSpsOPI"
      }
    },
    {
      "cell_type": "code",
      "source": [
        "#Import TensorFlow\n",
        "import tensorflow as tf\n",
        "\n",
        "#Its good practice to check our version of the library. Make sure nothing is amiss.\n",
        "print(tf.__version__)"
      ],
      "metadata": {
        "colab": {
          "base_uri": "https://localhost:8080/"
        },
        "id": "U0MzqYxDRNKv",
        "outputId": "0bbc29c4-da46-42c6-e50e-023fb6967aaa"
      },
      "execution_count": 1,
      "outputs": [
        {
          "output_type": "stream",
          "name": "stdout",
          "text": [
            "2.12.0\n"
          ]
        }
      ]
    },
    {
      "cell_type": "code",
      "source": [
        "#Creating a new tensor with tf.constant()\n",
        "\n",
        "#plain number, 0 dimensions\n",
        "scalar_num = tf.constant(7)\n",
        "#using the .numpy() method in order to print it as an numpy array\n",
        "print(scalar_num.numpy())\n",
        "\n",
        "#1-dim\n",
        "d1 = tf.constant ([1],shape=[1,])\n",
        "print(\"1 Dimension  \\n\",d1.numpy())\n",
        "#2-dim\n",
        "d2 = tf.constant([2],shape=[2,2])\n",
        "print(\"\\n2 Dimensions  \\n\",d2.numpy())\n",
        "#3-dim\n",
        "d3 = tf.constant([3],shape=[2,3,2])\n",
        "print(\"\\n3 Dimensions  \\n\",d3.numpy())"
      ],
      "metadata": {
        "colab": {
          "base_uri": "https://localhost:8080/"
        },
        "id": "V6EZcN9zVGdQ",
        "outputId": "100a2255-355d-4561-8aff-a93a90db82d4"
      },
      "execution_count": 2,
      "outputs": [
        {
          "output_type": "stream",
          "name": "stdout",
          "text": [
            "7\n",
            "1 Dimension  \n",
            " [1]\n",
            "\n",
            "2 Dimensions  \n",
            " [[2 2]\n",
            " [2 2]]\n",
            "\n",
            "3 Dimensions  \n",
            " [[[3 3]\n",
            "  [3 3]\n",
            "  [3 3]]\n",
            "\n",
            " [[3 3]\n",
            "  [3 3]\n",
            "  [3 3]]]\n"
          ]
        }
      ]
    },
    {
      "cell_type": "code",
      "source": [
        "#A way of finding the dimensions of an element, we can use the method .ndim\n",
        "d3.ndim"
      ],
      "metadata": {
        "colab": {
          "base_uri": "https://localhost:8080/"
        },
        "id": "_wPnBGmyVOO5",
        "outputId": "9ef56068-a39a-4bbf-baa1-1ba389aa6025"
      },
      "execution_count": 3,
      "outputs": [
        {
          "output_type": "execute_result",
          "data": {
            "text/plain": [
              "3"
            ]
          },
          "metadata": {},
          "execution_count": 3
        }
      ]
    },
    {
      "cell_type": "code",
      "source": [
        "#All tensors created are constants, meaning are unchangable. In order for them to not be that way we would use the .Variable() method.\n",
        "d2_tensor = tf.Variable([[2,2,2],[2,2,2]])\n",
        "d2_tensor"
      ],
      "metadata": {
        "id": "A76f205yYgbg",
        "colab": {
          "base_uri": "https://localhost:8080/"
        },
        "outputId": "1135236c-fb44-43bc-a9fa-7292ee7b36fb"
      },
      "execution_count": 4,
      "outputs": [
        {
          "output_type": "execute_result",
          "data": {
            "text/plain": [
              "<tf.Variable 'Variable:0' shape=(2, 3) dtype=int32, numpy=\n",
              "array([[2, 2, 2],\n",
              "       [2, 2, 2]], dtype=int32)>"
            ]
          },
          "metadata": {},
          "execution_count": 4
        }
      ]
    },
    {
      "cell_type": "code",
      "source": [
        "#Creating tensors containing random numbers with random.uniform() and not random.Generator.from_seed().\n",
        "#Key difference is their assigned values and with a seed we can reproduce the outputs of the tensor while uniform() are completely random.\n",
        "#In case we want to test in the future, a model with reaccuring tensors info.\n",
        "random_tens = tf.random.uniform(shape=(5,5),maxval = 255,dtype =tf.int32 )\n",
        "random_tens\n"
      ],
      "metadata": {
        "colab": {
          "base_uri": "https://localhost:8080/"
        },
        "id": "kxzDKyPmdT80",
        "outputId": "d5c5d93d-1030-4589-e497-d3349d0ce3b7"
      },
      "execution_count": 5,
      "outputs": [
        {
          "output_type": "execute_result",
          "data": {
            "text/plain": [
              "<tf.Tensor: shape=(5, 5), dtype=int32, numpy=\n",
              "array([[133, 237, 220, 120,  91],\n",
              "       [ 21,  28, 248, 223, 233],\n",
              "       [ 16,  80, 146, 213,  92],\n",
              "       [230,  19,  56,  46, 135],\n",
              "       [  7, 232,  70, 247, 241]], dtype=int32)>"
            ]
          },
          "metadata": {},
          "execution_count": 5
        }
      ]
    },
    {
      "cell_type": "code",
      "source": [
        "# explore the random.shuffle() method. It is used for mixing the contents of a tensor based on its 1st dimension.\n",
        "print(\"Our starting tensor: \\n\",random_tens.numpy())\n",
        "random_tens = tf.random.shuffle(random_tens)\n",
        "print(\"Our tensor after shuffling: \\n\",random_tens.numpy())"
      ],
      "metadata": {
        "colab": {
          "base_uri": "https://localhost:8080/"
        },
        "id": "JID18l9_Y6R_",
        "outputId": "5acaf7c1-0fd0-4af8-8962-1cedde2c4a70"
      },
      "execution_count": 6,
      "outputs": [
        {
          "output_type": "stream",
          "name": "stdout",
          "text": [
            "Our starting tensor: \n",
            " [[133 237 220 120  91]\n",
            " [ 21  28 248 223 233]\n",
            " [ 16  80 146 213  92]\n",
            " [230  19  56  46 135]\n",
            " [  7 232  70 247 241]]\n",
            "Our tensor after shuffling: \n",
            " [[ 21  28 248 223 233]\n",
            " [133 237 220 120  91]\n",
            " [ 16  80 146 213  92]\n",
            " [230  19  56  46 135]\n",
            " [  7 232  70 247 241]]\n"
          ]
        }
      ]
    },
    {
      "cell_type": "markdown",
      "source": [
        "### Operation with tensors\n",
        "- Multiplication\n",
        "- Addition\n"
      ],
      "metadata": {
        "id": "CbuZr_PAW3lR"
      }
    },
    {
      "cell_type": "code",
      "source": [
        "#Addition using the default operation\n",
        "random_tens2 = tf.random.uniform(shape=(5,5),maxval = 255, dtype = tf.int32)\n",
        "resulting_tens1 = random_tens + random_tens2\n",
        "resulting_tens1"
      ],
      "metadata": {
        "colab": {
          "base_uri": "https://localhost:8080/"
        },
        "id": "p6Jd2YfnXBX4",
        "outputId": "a7ba3cab-8902-4ea5-def2-6d827bce73b3"
      },
      "execution_count": 8,
      "outputs": [
        {
          "output_type": "execute_result",
          "data": {
            "text/plain": [
              "<tf.Tensor: shape=(5, 5), dtype=int32, numpy=\n",
              "array([[ 38, 107, 430, 350, 445],\n",
              "       [275, 292, 439, 121, 201],\n",
              "       [ 36, 201, 281, 433, 312],\n",
              "       [274,  58, 276, 267, 236],\n",
              "       [230, 328, 230, 329, 432]], dtype=int32)>"
            ]
          },
          "metadata": {},
          "execution_count": 8
        }
      ]
    },
    {
      "cell_type": "code",
      "source": [
        "#Addition wih addition method\n",
        "resulting_tens2 = tf.math.add(random_tens,random_tens2)\n",
        "resulting_tens2"
      ],
      "metadata": {
        "colab": {
          "base_uri": "https://localhost:8080/"
        },
        "id": "yA1CoyafXt-6",
        "outputId": "b4eff2ec-bbdd-49bc-eae2-f2489273d046"
      },
      "execution_count": 11,
      "outputs": [
        {
          "output_type": "execute_result",
          "data": {
            "text/plain": [
              "<tf.Tensor: shape=(5, 5), dtype=int32, numpy=\n",
              "array([[ 38, 107, 430, 350, 445],\n",
              "       [275, 292, 439, 121, 201],\n",
              "       [ 36, 201, 281, 433, 312],\n",
              "       [274,  58, 276, 267, 236],\n",
              "       [230, 328, 230, 329, 432]], dtype=int32)>"
            ]
          },
          "metadata": {},
          "execution_count": 11
        }
      ]
    },
    {
      "cell_type": "code",
      "source": [
        "#Likewise for multiplication\n",
        "resulting_tens3 = tf.matmul(random_tens,random_tens2)\n",
        "resulting_tens3"
      ],
      "metadata": {
        "colab": {
          "base_uri": "https://localhost:8080/"
        },
        "id": "xEM8q6fcYVVK",
        "outputId": "1c8db77d-c386-43f6-8813-079cf2696b2e"
      },
      "execution_count": 12,
      "outputs": [
        {
          "output_type": "execute_result",
          "data": {
            "text/plain": [
              "<tf.Tensor: shape=(5, 5), dtype=int32, numpy=\n",
              "array([[ 71064,  64272, 129774, 125644, 129118],\n",
              "       [ 65888,  63578, 146769,  99510, 132167],\n",
              "       [ 44440,  40469, 101722,  88849,  83397],\n",
              "       [ 39857,  40745,  85301,  62785,  93601],\n",
              "       [ 99074,  54552, 154432,  90870, 113382]], dtype=int32)>"
            ]
          },
          "metadata": {},
          "execution_count": 12
        }
      ]
    }
  ]
}